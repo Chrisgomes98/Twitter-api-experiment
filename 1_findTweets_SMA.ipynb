{
 "cells": [
  {
   "cell_type": "code",
   "execution_count": 4,
   "metadata": {},
   "outputs": [],
   "source": [
    "from tweepy import Stream\n",
    "from tweepy import OAuthHandler\n",
    "from tweepy.streaming import StreamListener\n",
    "import json\n",
    "import sqlite3\n",
    "from vaderSentiment.vaderSentiment import SentimentIntensityAnalyzer\n",
    "from unidecode import unidecode\n",
    "import time\n",
    "\n",
    "analyzer = SentimentIntensityAnalyzer()\n",
    "\n",
    "#consumer key, consumer secret, access token, access secret.\n",
    "ckey=\"xuKutBBw2UsnwSexOTLV3ejSY\"\n",
    "csecret=\"9nhfOgswmvcAWJcpeeuadXEhN54VLHyPXDeIm9QOdifBPjfSy9\"\n",
    "atoken=\"1074896250112098304-dMfZTj1k2Ag9vEPqRHaTyRFiFJeoiN\"\n",
    "asecret=\"2BhLs1aHYCJTmZGIah9j5ZKexhmC7BVRI9CQq2BZuJ9bV\"\n",
    "\n",
    "conn = sqlite3.connect('twitter.db')\n",
    "c = conn.cursor()"
   ]
  },
  {
   "cell_type": "code",
   "execution_count": 5,
   "metadata": {},
   "outputs": [
    {
     "name": "stdout",
     "output_type": "stream",
     "text": [
      "index fast_unix already exists\n"
     ]
    }
   ],
   "source": [
    "def create_table():\n",
    "    try:\n",
    "        c.execute(\"CREATE TABLE IF NOT EXISTS sentiment(unix REAL, tweet TEXT, sentiment REAL)\")\n",
    "        c.execute(\"CREATE INDEX fast_unix ON sentiment(unix)\")\n",
    "        c.execute(\"CREATE INDEX fast_tweet ON sentiment(tweet)\")\n",
    "        c.execute(\"CREATE INDEX fast_sentiment ON sentiment(sentiment)\")\n",
    "        conn.commit()\n",
    "    except Exception as e:\n",
    "        print(str(e))\n",
    "create_table()"
   ]
  },
  {
   "cell_type": "code",
   "execution_count": null,
   "metadata": {},
   "outputs": [],
   "source": [
    "class listener(StreamListener):\n",
    "\n",
    "    def on_data(self, data):\n",
    "        try:\n",
    "            data = json.loads(data)\n",
    "            tweet = unidecode(data['text'])\n",
    "            time_ms = data['timestamp_ms']\n",
    "            vs = analyzer.polarity_scores(tweet)\n",
    "            sentiment = vs['compound']\n",
    "            #print(time_ms, tweet, sentiment)\n",
    "            c.execute(\"INSERT INTO sentiment (unix, tweet, sentiment) VALUES (?, ?, ?)\",\n",
    "                  (time_ms, tweet, sentiment))\n",
    "            conn.commit()\n",
    "\n",
    "        except KeyError as e:\n",
    "            print(str(e))\n",
    "        return(True)\n",
    "\n",
    "    def on_error(self, status):\n",
    "        print(status)\n",
    "\n",
    "\n",
    "while True:\n",
    "\n",
    "    try:\n",
    "        auth = OAuthHandler(ckey, csecret)\n",
    "        auth.set_access_token(atoken, asecret)\n",
    "        twitterStream = Stream(auth, listener())\n",
    "        twitterStream.filter(track=[\"a\",\"e\",\"i\",\"o\",\"u\"])\n",
    "    except Exception as e:\n",
    "        print(str(e))\n",
    "        time.sleep(5)"
   ]
  },
  {
   "cell_type": "code",
   "execution_count": null,
   "metadata": {},
   "outputs": [],
   "source": []
  },
  {
   "cell_type": "code",
   "execution_count": null,
   "metadata": {},
   "outputs": [],
   "source": []
  }
 ],
 "metadata": {
  "kernelspec": {
   "display_name": "Python 3",
   "language": "python",
   "name": "python3"
  },
  "language_info": {
   "codemirror_mode": {
    "name": "ipython",
    "version": 3
   },
   "file_extension": ".py",
   "mimetype": "text/x-python",
   "name": "python",
   "nbconvert_exporter": "python",
   "pygments_lexer": "ipython3",
   "version": "3.7.3"
  }
 },
 "nbformat": 4,
 "nbformat_minor": 4
}
