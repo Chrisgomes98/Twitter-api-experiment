{
 "cells": [
  {
   "cell_type": "code",
   "execution_count": 2,
   "metadata": {},
   "outputs": [],
   "source": [
    "import dash\n",
    "from dash.dependencies import Output, Input\n",
    "import dash_core_components as dcc\n",
    "import dash_html_components as html\n",
    "import plotly\n",
    "import random\n",
    "import plotly.graph_objs as go\n",
    "from collections import deque\n",
    "import sqlite3\n",
    "import pandas as pd"
   ]
  },
  {
   "cell_type": "code",
   "execution_count": 10,
   "metadata": {},
   "outputs": [
    {
     "ename": "AttributeError",
     "evalue": "module 'dash_core_components' has no attribute 'Internal'",
     "output_type": "error",
     "traceback": [
      "\u001b[1;31m---------------------------------------------------------------------------\u001b[0m",
      "\u001b[1;31mAttributeError\u001b[0m                            Traceback (most recent call last)",
      "\u001b[1;32m<ipython-input-10-b212e30f23c9>\u001b[0m in \u001b[0;36m<module>\u001b[1;34m\u001b[0m\n\u001b[0;32m      6\u001b[0m     \u001b[0mhtml\u001b[0m\u001b[1;33m.\u001b[0m\u001b[0mH2\u001b[0m\u001b[1;33m(\u001b[0m\u001b[1;34m'Social Media App'\u001b[0m\u001b[1;33m)\u001b[0m\u001b[1;33m,\u001b[0m\u001b[1;33m\u001b[0m\u001b[1;33m\u001b[0m\u001b[0m\n\u001b[0;32m      7\u001b[0m     \u001b[0mdcc\u001b[0m\u001b[1;33m.\u001b[0m\u001b[0mGraph\u001b[0m\u001b[1;33m(\u001b[0m\u001b[0mid\u001b[0m\u001b[1;33m=\u001b[0m\u001b[1;34m'live_graph'\u001b[0m\u001b[1;33m,\u001b[0m\u001b[0manimate\u001b[0m\u001b[1;33m=\u001b[0m\u001b[1;32mFalse\u001b[0m\u001b[1;33m)\u001b[0m\u001b[1;33m,\u001b[0m\u001b[1;33m\u001b[0m\u001b[1;33m\u001b[0m\u001b[0m\n\u001b[1;32m----> 8\u001b[1;33m     \u001b[0mdcc\u001b[0m\u001b[1;33m.\u001b[0m\u001b[0mInternal\u001b[0m\u001b[1;33m(\u001b[0m\u001b[0mid\u001b[0m\u001b[1;33m=\u001b[0m\u001b[1;34m'graph_update'\u001b[0m\u001b[1;33m,\u001b[0m\u001b[0minternal\u001b[0m\u001b[1;33m=\u001b[0m\u001b[1;36m1\u001b[0m\u001b[1;33m*\u001b[0m\u001b[1;36m100\u001b[0m\u001b[1;33m)\u001b[0m\u001b[1;33m\u001b[0m\u001b[1;33m\u001b[0m\u001b[0m\n\u001b[0m\u001b[0;32m      9\u001b[0m ])\n\u001b[0;32m     10\u001b[0m \u001b[1;33m\u001b[0m\u001b[0m\n",
      "\u001b[1;31mAttributeError\u001b[0m: module 'dash_core_components' has no attribute 'Internal'"
     ]
    }
   ],
   "source": [
    "app=dash.Dash(__name__)\n",
    "\n",
    "#making the layout\n",
    "app.layout=html.Div(\n",
    "[\n",
    "    html.H2('Social Media App'),\n",
    "    dcc.Graph(id='live_graph',animate=False),\n",
    "    dcc.Internal(id='graph_update',internal=1*100)\n",
    "])\n",
    "\n",
    "@app.callback(Output('live_graph','figure'),Input=[Event('graph.update','internal')])\n",
    "\n",
    "def update_graph_scatter():\n",
    "    try:\n",
    "        conn=sqlite3.connect('twitter.db')\n",
    "        c=conn.cursor()\n",
    "        df=pd.readsql(\"SELECT FROM sentiment WHERE tweet LIKE '%NSE%' ORDER BY unix DESC LIMIT 1000\",conn)\n",
    "        x=df.unix.values[-100:]\n",
    "        y=df.sentiment_smoothed.values[-100:]\n",
    "        data=plotly.graph_objs.Scatter(x=X,y=Y,name='scatter',mode='lines+markers')\n",
    "        return{'data':[data],'layout':goLayout(xaxis=dict(range[min(X),max(X)]),yaxis=dict(range[min(Y),max(Y)]),)}\n",
    "    except:\n",
    "        print(\"error\")"
   ]
  },
  {
   "cell_type": "code",
   "execution_count": null,
   "metadata": {},
   "outputs": [],
   "source": []
  }
 ],
 "metadata": {
  "kernelspec": {
   "display_name": "Python 3",
   "language": "python",
   "name": "python3"
  },
  "language_info": {
   "codemirror_mode": {
    "name": "ipython",
    "version": 3
   },
   "file_extension": ".py",
   "mimetype": "text/x-python",
   "name": "python",
   "nbconvert_exporter": "python",
   "pygments_lexer": "ipython3",
   "version": "3.7.3"
  }
 },
 "nbformat": 4,
 "nbformat_minor": 4
}
